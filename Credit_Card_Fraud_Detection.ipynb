# Credit Card Fraud Detection

# 1. Import Libraries
import pandas as pd
import numpy as np
import matplotlib.pyplot as plt
import seaborn as sns
from sklearn.model_selection import train_test_split
from sklearn.preprocessing import StandardScaler
from sklearn.linear_model import LogisticRegression
from sklearn.ensemble import RandomForestClassifier
from sklearn.metrics import classification_report, confusion_matrix, roc_auc_score, roc_curve

# 2. Load Dataset
df = pd.read_csv('creditcard.csv')
print("Dataset shape:", df.shape)
df.head()

# 3. Explore Data
print("\nClass distribution:")
print(df['Class'].value_counts())

plt.figure(figsize=(6,4))
sns.countplot(x='Class', data=df)
plt.title('Class Distribution: 0 = Non-Fraud, 1 = Fraud')
plt.show()

# 4. Data Preprocessing
# Check for missing values
print("\nMissing values in dataset:")
print(df.isnull().sum())

# Feature Scaling (excluding 'Class' column)
scaler = StandardScaler()
df_scaled = df.copy()
df_scaled[df.columns[:-1]] = scaler.fit_transform(df[df.columns[:-1]])

# 5. Split Data
X = df_scaled.drop('Class', axis=1)
y = df_scaled['Class']

X_train, X_test, y_train, y_test = train_test_split(X, y, test_size=0.3, random_state=42, stratify=y)
print("\nTraining set shape:", X_train.shape)
print("Test set shape:", X_test.shape)

# 6. Model Training and Evaluation Functions

def evaluate_model(model, X_test, y_test):
    y_pred = model.predict(X_test)
    y_pred_prob = model.predict_proba(X_test)[:,1]

    print("\nClassification Report:")
    print(classification_report(y_test, y_pred))

    print("Confusion Matrix:")
    cm = confusion_matrix(y_test, y_pred)
    sns.heatmap(cm, annot=True, fmt='d')
    plt.xlabel('Predicted')
    plt.ylabel('Actual')
    plt.show()

    roc_auc = roc_auc_score(y_test, y_pred_prob)
    print(f'ROC AUC Score: {roc_auc:.4f}')

    fpr, tpr, thresholds = roc_curve(y_test, y_pred_prob)
    plt.plot(fpr, tpr, label='ROC curve (area = %0.4f)' % roc_auc)
    plt.plot([0, 1], [0, 1], 'k--')  # random predictions curve
    plt.xlabel('False Positive Rate')
    plt.ylabel('True Positive Rate')
    plt.title('ROC Curve')
    plt.legend(loc='lower right')
    plt.show()

# 7. Logistic Regression
logreg = LogisticRegression(max_iter=1000, class_weight='balanced')
logreg.fit(X_train, y_train)

print("\nLogistic Regression Results:")
evaluate_model(logreg, X_test, y_test)

# 8. Random Forest Classifier
rf = RandomForestClassifier(n_estimators=100, class_weight='balanced', random_state=42)
rf.fit(X_train, y_train)

print("\nRandom Forest Results:")
evaluate_model(rf, X_test, y_test)

# 9. Conclusion
print("Project complete. You can improve by handling imbalance more with SMOTE, tuning hyperparameters, or trying other models.")

